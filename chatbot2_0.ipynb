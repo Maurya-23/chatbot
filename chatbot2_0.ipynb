{
  "nbformat": 4,
  "nbformat_minor": 0,
  "metadata": {
    "colab": {
      "provenance": []
    },
    "kernelspec": {
      "name": "python3",
      "display_name": "Python 3"
    },
    "language_info": {
      "name": "python"
    }
  },
  "cells": [
    {
      "cell_type": "code",
      "execution_count": 6,
      "metadata": {
        "colab": {
          "base_uri": "https://localhost:8080/"
        },
        "id": "oE8Wzkju3L7C",
        "outputId": "d9b723d0-9a2c-4e75-d175-d473709a7553"
      },
      "outputs": [
        {
          "output_type": "stream",
          "name": "stderr",
          "text": [
            "[nltk_data] Downloading package stopwords to /root/nltk_data...\n",
            "[nltk_data]   Package stopwords is already up-to-date!\n",
            "[nltk_data] Downloading package wordnet to /root/nltk_data...\n",
            "[nltk_data]   Package wordnet is already up-to-date!\n",
            "[nltk_data] Downloading package punkt to /root/nltk_data...\n",
            "[nltk_data]   Unzipping tokenizers/punkt.zip.\n"
          ]
        },
        {
          "output_type": "execute_result",
          "data": {
            "text/plain": [
              "True"
            ]
          },
          "metadata": {},
          "execution_count": 6
        }
      ],
      "source": [
        "import requests\n",
        "from bs4 import BeautifulSoup\n",
        "import nltk\n",
        "from nltk.corpus import stopwords\n",
        "from nltk.tokenize import word_tokenize, sent_tokenize\n",
        "from nltk.stem import WordNetLemmatizer\n",
        "from sklearn.feature_extraction.text import TfidfVectorizer\n",
        "from sklearn.metrics.pairwise import cosine_similarity\n",
        "from string import punctuation\n",
        "from time import sleep\n",
        "nltk.download('stopwords')\n",
        "nltk.download('wordnet')\n",
        "nltk.download('punkt')"
      ]
    },
    {
      "cell_type": "code",
      "source": [
        "class AdvancedChatBot:\n",
        "    def __init__(self):\n",
        "        self.end_chat = False\n",
        "        self.got_topic = False\n",
        "        self.do_not_respond = True\n",
        "        self.title = None\n",
        "        self.text_data = []\n",
        "        self.sentences = []\n",
        "        self.para_indices = []\n",
        "        self.current_sent_idx = None\n",
        "        self.punctuation_dict = str.maketrans({p: None for p in punctuation})\n",
        "        self.lemmatizer = WordNetLemmatizer()\n",
        "        self.stopwords = set(stopwords.words('english'))\n",
        "        self.greeting()\n",
        "\n",
        "    def greeting(self):\n",
        "        print(\"Initializing ChatBot ...\")\n",
        "        sleep(2)\n",
        "        print('Type \"bye\" or \"quit\" or \"exit\" to end chat')\n",
        "        sleep(2)\n",
        "        print('\\nShare your confluence link here. '\n",
        "              '\\nChatBot will access the confluence page if it has access to, prepare itself to '\n",
        "              '\\nrespond to your queries on that topic. \\n')\n",
        "        sleep(3)\n",
        "        print('ChatBot will respond with short info. '\n",
        "              '\\nIf you input \"more\", it will give you detailed info '\n",
        "              '\\nYou can also jump to the next query')\n",
        "        sleep(3)\n",
        "        print('-'*50)\n",
        "        greet = \"Hello! Please share the link of the confluence page you want to explore. \"\n",
        "        print(\"ChatBot >>  \" + greet)\n",
        "\n",
        "    def chat(self):\n",
        "        while not self.end_chat:\n",
        "            self.receive_input()\n",
        "            if self.end_chat:\n",
        "                print('ChatBot >>  See you soon! Bye!')\n",
        "                sleep(2)\n",
        "                print('\\nQuitting ChatBot ...')\n",
        "            elif self.got_topic:\n",
        "                if not self.do_not_respond:\n",
        "                    self.respond()\n",
        "                self.do_not_respond = False\n",
        "\n",
        "    def receive_input(self):\n",
        "        text = input(\"User    >> \")\n",
        "        if text.lower().strip() in ['bye', 'quit', 'exit']:\n",
        "            self.end_chat = True\n",
        "        elif text.lower().strip() == 'more':\n",
        "            self.do_not_respond = True\n",
        "            if self.current_sent_idx is not None:\n",
        "                response = self.text_data[self.para_indices[self.current_sent_idx]]\n",
        "            else:\n",
        "                response = \"Please input your query first!\"\n",
        "            print(\"ChatBot >>  \" + response)\n",
        "        elif not self.got_topic:\n",
        "            self.scrape_wiki(text)\n",
        "        else:\n",
        "            self.sentences.append(text)\n",
        "\n",
        "    def respond(self):\n",
        "        vectorizer = TfidfVectorizer(tokenizer=self.preprocess)\n",
        "        tfidf = vectorizer.fit_transform(self.sentences)\n",
        "        scores = cosine_similarity(tfidf[-1], tfidf)\n",
        "        self.current_sent_idx = scores.argsort()[0][-2]\n",
        "        scores = scores.flatten()\n",
        "        scores.sort()\n",
        "        value = scores[-1]\n",
        "        if value != 0:\n",
        "            print(\"ChatBot >>  \" + self.sentences[self.current_sent_idx])\n",
        "        else:\n",
        "            print(\"ChatBot >>  I am not sure. Sorry!\")\n",
        "        del self.sentences[-1]\n",
        "\n",
        "    def scrape_wiki(self, topic):\n",
        "        topic = '_'.join(topic.lower().strip().capitalize().split(' '))\n",
        "        try:\n",
        "            link = f'{topic}'\n",
        "            data = requests.get(link).content\n",
        "            soup = BeautifulSoup(data, 'html.parser')\n",
        "            p_data = soup.find_all('p')\n",
        "            for tag in p_data:\n",
        "                a = []\n",
        "                for i in tag.contents:\n",
        "                    if i.name != 'sup' and i.string is not None:\n",
        "                        stripped = ' '.join(i.string.strip().split())\n",
        "                        a.append(stripped)\n",
        "                self.text_data.append(' '.join(a))\n",
        "\n",
        "            for i, para in enumerate(self.text_data):\n",
        "                sentences = sent_tokenize(para)\n",
        "                self.sentences.extend(sentences)\n",
        "                index = [i] * len(sentences)\n",
        "                self.para_indices.extend(index)\n",
        "\n",
        "            self.title = soup.find('h1').string\n",
        "            self.got_topic = True\n",
        "            print(f'ChatBot >>  Topic is \"Confluence: {self.title}\". Let\\'s chat!')\n",
        "        except Exception as e:\n",
        "            print(f'ChatBot >>  Error: {e}. Please input some other topic!')\n",
        "\n",
        "    def preprocess(self, text):\n",
        "        text = text.lower().strip().translate(self.punctuation_dict)\n",
        "        words = word_tokenize(text)\n",
        "        words = [w for w in words if w not in self.stopwords]\n",
        "        return [self.lemmatizer.lemmatize(w) for w in words]"
      ],
      "metadata": {
        "id": "0zfgAMWt3556"
      },
      "execution_count": 19,
      "outputs": []
    },
    {
      "cell_type": "code",
      "source": [
        "chatbot = AdvancedChatBot()\n",
        "chatbot.chat()"
      ],
      "metadata": {
        "colab": {
          "base_uri": "https://localhost:8080/",
          "height": 724
        },
        "id": "78Hyys-A3-3H",
        "outputId": "045d0207-e04f-4b2c-dd55-e390d381e207"
      },
      "execution_count": 20,
      "outputs": [
        {
          "output_type": "stream",
          "name": "stdout",
          "text": [
            "Initializing ChatBot ...\n",
            "Type \"bye\" or \"quit\" or \"exit\" to end chat\n",
            "\n",
            "Share your confluence link here. \n",
            "ChatBot will access the confluence page if it has access to, prepare itself to \n",
            "respond to your queries on that topic. \n",
            "\n",
            "ChatBot will respond with short info. \n",
            "If you input \"more\", it will give you detailed info \n",
            "You can also jump to the next query\n",
            "--------------------------------------------------\n",
            "ChatBot >>  Hello! Please share the link of the confluence page you want to explore. \n",
            "User    >> https://en.wikipedia.org/wiki/Coffee\n",
            "ChatBot >>  Topic is \"Confluence: Coffee\". Let's chat!\n",
            "User    >> what is coffee?\n",
            "ChatBot >>  Coffee is a beverage brewed from roasted coffee beans .\n",
            "User    >> health?\n",
            "ChatBot >>  Results were complicated by poor study quality, and differences in age, gender, health status, and serving size.\n",
            "User    >> does it contain caffeine?\n",
            "ChatBot >>  Robusta strains also contain about 40–50% more caffeine than arabica.\n",
            "User    >> more\n",
            "ChatBot >>  Of the two main species grown, arabica coffee (from C. arabica ) is generally more highly regarded than robusta coffee (from C. canephora ). Robusta coffee tends to be bitter and has less flavor but a better body than arabica. For these reasons, about three-quarters of coffee cultivated worldwide is C. arabica . Robusta strains also contain about 40–50% more caffeine than arabica. Consequently, this species is used as an inexpensive substitute for arabica in many commercial coffee blends. Good quality robusta beans are used in traditional Italian espresso blends to provide a full-bodied taste and a better foam head (known as crema ).\n"
          ]
        },
        {
          "output_type": "error",
          "ename": "KeyboardInterrupt",
          "evalue": "Interrupted by user",
          "traceback": [
            "\u001b[0;31m---------------------------------------------------------------------------\u001b[0m",
            "\u001b[0;31mKeyboardInterrupt\u001b[0m                         Traceback (most recent call last)",
            "\u001b[0;32m<ipython-input-20-ab97fca4092a>\u001b[0m in \u001b[0;36m<cell line: 2>\u001b[0;34m()\u001b[0m\n\u001b[1;32m      1\u001b[0m \u001b[0mchatbot\u001b[0m \u001b[0;34m=\u001b[0m \u001b[0mAdvancedChatBot\u001b[0m\u001b[0;34m(\u001b[0m\u001b[0;34m)\u001b[0m\u001b[0;34m\u001b[0m\u001b[0;34m\u001b[0m\u001b[0m\n\u001b[0;32m----> 2\u001b[0;31m \u001b[0mchatbot\u001b[0m\u001b[0;34m.\u001b[0m\u001b[0mchat\u001b[0m\u001b[0;34m(\u001b[0m\u001b[0;34m)\u001b[0m\u001b[0;34m\u001b[0m\u001b[0;34m\u001b[0m\u001b[0m\n\u001b[0m",
            "\u001b[0;32m<ipython-input-19-ab4d51f0b22c>\u001b[0m in \u001b[0;36mchat\u001b[0;34m(self)\u001b[0m\n\u001b[1;32m     33\u001b[0m     \u001b[0;32mdef\u001b[0m \u001b[0mchat\u001b[0m\u001b[0;34m(\u001b[0m\u001b[0mself\u001b[0m\u001b[0;34m)\u001b[0m\u001b[0;34m:\u001b[0m\u001b[0;34m\u001b[0m\u001b[0;34m\u001b[0m\u001b[0m\n\u001b[1;32m     34\u001b[0m         \u001b[0;32mwhile\u001b[0m \u001b[0;32mnot\u001b[0m \u001b[0mself\u001b[0m\u001b[0;34m.\u001b[0m\u001b[0mend_chat\u001b[0m\u001b[0;34m:\u001b[0m\u001b[0;34m\u001b[0m\u001b[0;34m\u001b[0m\u001b[0m\n\u001b[0;32m---> 35\u001b[0;31m             \u001b[0mself\u001b[0m\u001b[0;34m.\u001b[0m\u001b[0mreceive_input\u001b[0m\u001b[0;34m(\u001b[0m\u001b[0;34m)\u001b[0m\u001b[0;34m\u001b[0m\u001b[0;34m\u001b[0m\u001b[0m\n\u001b[0m\u001b[1;32m     36\u001b[0m             \u001b[0;32mif\u001b[0m \u001b[0mself\u001b[0m\u001b[0;34m.\u001b[0m\u001b[0mend_chat\u001b[0m\u001b[0;34m:\u001b[0m\u001b[0;34m\u001b[0m\u001b[0;34m\u001b[0m\u001b[0m\n\u001b[1;32m     37\u001b[0m                 \u001b[0mprint\u001b[0m\u001b[0;34m(\u001b[0m\u001b[0;34m'ChatBot >>  See you soon! Bye!'\u001b[0m\u001b[0;34m)\u001b[0m\u001b[0;34m\u001b[0m\u001b[0;34m\u001b[0m\u001b[0m\n",
            "\u001b[0;32m<ipython-input-19-ab4d51f0b22c>\u001b[0m in \u001b[0;36mreceive_input\u001b[0;34m(self)\u001b[0m\n\u001b[1;32m     44\u001b[0m \u001b[0;34m\u001b[0m\u001b[0m\n\u001b[1;32m     45\u001b[0m     \u001b[0;32mdef\u001b[0m \u001b[0mreceive_input\u001b[0m\u001b[0;34m(\u001b[0m\u001b[0mself\u001b[0m\u001b[0;34m)\u001b[0m\u001b[0;34m:\u001b[0m\u001b[0;34m\u001b[0m\u001b[0;34m\u001b[0m\u001b[0m\n\u001b[0;32m---> 46\u001b[0;31m         \u001b[0mtext\u001b[0m \u001b[0;34m=\u001b[0m \u001b[0minput\u001b[0m\u001b[0;34m(\u001b[0m\u001b[0;34m\"User    >> \"\u001b[0m\u001b[0;34m)\u001b[0m\u001b[0;34m\u001b[0m\u001b[0;34m\u001b[0m\u001b[0m\n\u001b[0m\u001b[1;32m     47\u001b[0m         \u001b[0;32mif\u001b[0m \u001b[0mtext\u001b[0m\u001b[0;34m.\u001b[0m\u001b[0mlower\u001b[0m\u001b[0;34m(\u001b[0m\u001b[0;34m)\u001b[0m\u001b[0;34m.\u001b[0m\u001b[0mstrip\u001b[0m\u001b[0;34m(\u001b[0m\u001b[0;34m)\u001b[0m \u001b[0;32min\u001b[0m \u001b[0;34m[\u001b[0m\u001b[0;34m'bye'\u001b[0m\u001b[0;34m,\u001b[0m \u001b[0;34m'quit'\u001b[0m\u001b[0;34m,\u001b[0m \u001b[0;34m'exit'\u001b[0m\u001b[0;34m]\u001b[0m\u001b[0;34m:\u001b[0m\u001b[0;34m\u001b[0m\u001b[0;34m\u001b[0m\u001b[0m\n\u001b[1;32m     48\u001b[0m             \u001b[0mself\u001b[0m\u001b[0;34m.\u001b[0m\u001b[0mend_chat\u001b[0m \u001b[0;34m=\u001b[0m \u001b[0;32mTrue\u001b[0m\u001b[0;34m\u001b[0m\u001b[0;34m\u001b[0m\u001b[0m\n",
            "\u001b[0;32m/usr/local/lib/python3.10/dist-packages/ipykernel/kernelbase.py\u001b[0m in \u001b[0;36mraw_input\u001b[0;34m(self, prompt)\u001b[0m\n\u001b[1;32m    849\u001b[0m                 \u001b[0;34m\"raw_input was called, but this frontend does not support input requests.\"\u001b[0m\u001b[0;34m\u001b[0m\u001b[0;34m\u001b[0m\u001b[0m\n\u001b[1;32m    850\u001b[0m             )\n\u001b[0;32m--> 851\u001b[0;31m         return self._input_request(str(prompt),\n\u001b[0m\u001b[1;32m    852\u001b[0m             \u001b[0mself\u001b[0m\u001b[0;34m.\u001b[0m\u001b[0m_parent_ident\u001b[0m\u001b[0;34m,\u001b[0m\u001b[0;34m\u001b[0m\u001b[0;34m\u001b[0m\u001b[0m\n\u001b[1;32m    853\u001b[0m             \u001b[0mself\u001b[0m\u001b[0;34m.\u001b[0m\u001b[0m_parent_header\u001b[0m\u001b[0;34m,\u001b[0m\u001b[0;34m\u001b[0m\u001b[0;34m\u001b[0m\u001b[0m\n",
            "\u001b[0;32m/usr/local/lib/python3.10/dist-packages/ipykernel/kernelbase.py\u001b[0m in \u001b[0;36m_input_request\u001b[0;34m(self, prompt, ident, parent, password)\u001b[0m\n\u001b[1;32m    893\u001b[0m             \u001b[0;32mexcept\u001b[0m \u001b[0mKeyboardInterrupt\u001b[0m\u001b[0;34m:\u001b[0m\u001b[0;34m\u001b[0m\u001b[0;34m\u001b[0m\u001b[0m\n\u001b[1;32m    894\u001b[0m                 \u001b[0;31m# re-raise KeyboardInterrupt, to truncate traceback\u001b[0m\u001b[0;34m\u001b[0m\u001b[0;34m\u001b[0m\u001b[0m\n\u001b[0;32m--> 895\u001b[0;31m                 \u001b[0;32mraise\u001b[0m \u001b[0mKeyboardInterrupt\u001b[0m\u001b[0;34m(\u001b[0m\u001b[0;34m\"Interrupted by user\"\u001b[0m\u001b[0;34m)\u001b[0m \u001b[0;32mfrom\u001b[0m \u001b[0;32mNone\u001b[0m\u001b[0;34m\u001b[0m\u001b[0;34m\u001b[0m\u001b[0m\n\u001b[0m\u001b[1;32m    896\u001b[0m             \u001b[0;32mexcept\u001b[0m \u001b[0mException\u001b[0m \u001b[0;32mas\u001b[0m \u001b[0me\u001b[0m\u001b[0;34m:\u001b[0m\u001b[0;34m\u001b[0m\u001b[0;34m\u001b[0m\u001b[0m\n\u001b[1;32m    897\u001b[0m                 \u001b[0mself\u001b[0m\u001b[0;34m.\u001b[0m\u001b[0mlog\u001b[0m\u001b[0;34m.\u001b[0m\u001b[0mwarning\u001b[0m\u001b[0;34m(\u001b[0m\u001b[0;34m\"Invalid Message:\"\u001b[0m\u001b[0;34m,\u001b[0m \u001b[0mexc_info\u001b[0m\u001b[0;34m=\u001b[0m\u001b[0;32mTrue\u001b[0m\u001b[0;34m)\u001b[0m\u001b[0;34m\u001b[0m\u001b[0;34m\u001b[0m\u001b[0m\n",
            "\u001b[0;31mKeyboardInterrupt\u001b[0m: Interrupted by user"
          ]
        }
      ]
    },
    {
      "cell_type": "code",
      "source": [],
      "metadata": {
        "id": "sNmF_ZQL4EZ9"
      },
      "execution_count": null,
      "outputs": []
    }
  ]
}
